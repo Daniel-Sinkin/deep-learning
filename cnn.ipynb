{
 "cells": [
  {
   "cell_type": "code",
   "execution_count": null,
   "metadata": {},
   "outputs": [],
   "source": [
    "import numpy as np\n",
    "\n",
    "shape = (1000, 512,  256, 3)\n",
    "_rng = np.random.default_rng(42)\n",
    "input = _rng.normal(size = shape).astype(np.float32)\n",
    "\n",
    "sample = input[0]\n",
    "\n",
    "filter = np.array(\n",
    "    [\n",
    "        [1 / 9, 1 / 9, 1 / 9],\n",
    "        [1 / 9, 1 / 9, 1 / 9],\n",
    "        [1 / 9, 1 / 9, 1 / 9],\n",
    "    ]\n",
    ").astype(np.float32)\n",
    "\n",
    "padding = 0\n",
    "stride = 1\n",
    "\n",
    "sample_x = sample.shape[0]\n",
    "sample_y = sample.shape[1]\n",
    "sample_c = sample.shape[2]\n",
    "\n",
    "filter_x = filter.shape[0]\n",
    "filter_y = filter.shape[1]\n",
    "\n",
    "result = np.zeros(\n",
    "    shape=(\n",
    "        (sample_x - filter_x + 2 * padding) // stride + 1,\n",
    "        (sample_y - filter_y + 2 * padding) // stride + 1,\n",
    "        sample_c,\n",
    "    )\n",
    ")\n",
    "\n",
    "c = 0\n",
    "sample_slice = sample[:, :, 0]\n",
    "\n",
    "result.shape\n",
    "for x in range(result.shape[0]):\n",
    "    if (x < padding) or (x > result.shape[0] - padding):\n",
    "        continue\n",
    "    for y in range(result.shape[1]):\n",
    "        if (y < padding) or (y > result.shape[0] - padding):\n",
    "            continue"
   ]
  }
 ],
 "metadata": {
  "kernelspec": {
   "display_name": ".venv",
   "language": "python",
   "name": "python3"
  },
  "language_info": {
   "codemirror_mode": {
    "name": "ipython",
    "version": 3
   },
   "file_extension": ".py",
   "mimetype": "text/x-python",
   "name": "python",
   "nbconvert_exporter": "python",
   "pygments_lexer": "ipython3",
   "version": "3.13.1"
  }
 },
 "nbformat": 4,
 "nbformat_minor": 2
}
